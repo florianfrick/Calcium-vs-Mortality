{
 "cells": [
  {
   "cell_type": "markdown",
   "metadata": {},
   "source": [
    "---\n",
    "\n",
    "# Effect of Calcium in Drinking Water on Mortality\n",
    "## Florian Frick\n"
   ]
  },
  {
   "cell_type": "code",
   "execution_count": 1,
   "metadata": {},
   "outputs": [],
   "source": [
    "import numpy as np\n",
    "import pandas as pd\n",
    "import matplotlib.pylab as plt\n",
    "import scipy.stats as stats\n",
    "#regression stuff:\n",
    "import statsmodels.api as sm\n",
    "from patsy import dmatrices\n",
    "%matplotlib inline"
   ]
  },
  {
   "cell_type": "markdown",
   "metadata": {},
   "source": [
    "### Loading the Data\n",
    "\n",
    "- `Rate`: annual mortality rate (as a percentage) over the years 1958–1964 of 61 towns in England and Wales.\n",
    "- `Calc`: the recorded calcium concentration in the drinking water supply for those towns, in parts-per-million"
   ]
  },
  {
   "cell_type": "code",
   "execution_count": 2,
   "metadata": {},
   "outputs": [
    {
     "name": "stdout",
     "output_type": "stream",
     "text": [
      "61\n"
     ]
    },
    {
     "data": {
      "text/html": [
       "<div>\n",
       "<style scoped>\n",
       "    .dataframe tbody tr th:only-of-type {\n",
       "        vertical-align: middle;\n",
       "    }\n",
       "\n",
       "    .dataframe tbody tr th {\n",
       "        vertical-align: top;\n",
       "    }\n",
       "\n",
       "    .dataframe thead th {\n",
       "        text-align: right;\n",
       "    }\n",
       "</style>\n",
       "<table border=\"1\" class=\"dataframe\">\n",
       "  <thead>\n",
       "    <tr style=\"text-align: right;\">\n",
       "      <th></th>\n",
       "      <th>Rate</th>\n",
       "      <th>Calc</th>\n",
       "    </tr>\n",
       "  </thead>\n",
       "  <tbody>\n",
       "    <tr>\n",
       "      <th>0</th>\n",
       "      <td>1.247</td>\n",
       "      <td>105</td>\n",
       "    </tr>\n",
       "    <tr>\n",
       "      <th>1</th>\n",
       "      <td>1.392</td>\n",
       "      <td>73</td>\n",
       "    </tr>\n",
       "    <tr>\n",
       "      <th>2</th>\n",
       "      <td>1.260</td>\n",
       "      <td>21</td>\n",
       "    </tr>\n",
       "    <tr>\n",
       "      <th>3</th>\n",
       "      <td>1.259</td>\n",
       "      <td>133</td>\n",
       "    </tr>\n",
       "    <tr>\n",
       "      <th>4</th>\n",
       "      <td>1.236</td>\n",
       "      <td>101</td>\n",
       "    </tr>\n",
       "    <tr>\n",
       "      <th>5</th>\n",
       "      <td>1.627</td>\n",
       "      <td>53</td>\n",
       "    </tr>\n",
       "    <tr>\n",
       "      <th>6</th>\n",
       "      <td>1.581</td>\n",
       "      <td>14</td>\n",
       "    </tr>\n",
       "    <tr>\n",
       "      <th>7</th>\n",
       "      <td>1.609</td>\n",
       "      <td>18</td>\n",
       "    </tr>\n",
       "    <tr>\n",
       "      <th>8</th>\n",
       "      <td>1.755</td>\n",
       "      <td>12</td>\n",
       "    </tr>\n",
       "    <tr>\n",
       "      <th>9</th>\n",
       "      <td>1.723</td>\n",
       "      <td>44</td>\n",
       "    </tr>\n",
       "  </tbody>\n",
       "</table>\n",
       "</div>"
      ],
      "text/plain": [
       "    Rate  Calc\n",
       "0  1.247   105\n",
       "1  1.392    73\n",
       "2  1.260    21\n",
       "3  1.259   133\n",
       "4  1.236   101\n",
       "5  1.627    53\n",
       "6  1.581    14\n",
       "7  1.609    18\n",
       "8  1.755    12\n",
       "9  1.723    44"
      ]
     },
     "execution_count": 2,
     "metadata": {},
     "output_type": "execute_result"
    }
   ],
   "source": [
    "# Path to the data - select the path that works for you \n",
    "file_path = './mortality.csv'\n",
    "\n",
    "# Load the data into a DataFrame \n",
    "df = pd.read_csv(file_path)\n",
    "print(len(df))\n",
    "df.head(10)"
   ]
  },
  {
   "cell_type": "markdown",
   "metadata": {},
   "source": [
    "**A)** Perform a simple linear regression model using the `OLS` method from `statsmodels`.  Print the resulting `summary` table and then as a print statement or in a markdown cell typeset the actual line of best fit, using the coefficients from your fit.  (See: `.params`.)"
   ]
  },
  {
   "cell_type": "code",
   "execution_count": 3,
   "metadata": {},
   "outputs": [
    {
     "data": {
      "text/html": [
       "<table class=\"simpletable\">\n",
       "<caption>OLS Regression Results</caption>\n",
       "<tr>\n",
       "  <th>Dep. Variable:</th>          <td>Rate</td>       <th>  R-squared:         </th> <td>   0.429</td>\n",
       "</tr>\n",
       "<tr>\n",
       "  <th>Model:</th>                   <td>OLS</td>       <th>  Adj. R-squared:    </th> <td>   0.419</td>\n",
       "</tr>\n",
       "<tr>\n",
       "  <th>Method:</th>             <td>Least Squares</td>  <th>  F-statistic:       </th> <td>   44.30</td>\n",
       "</tr>\n",
       "<tr>\n",
       "  <th>Date:</th>             <td>Tue, 28 Mar 2023</td> <th>  Prob (F-statistic):</th> <td>1.03e-08</td>\n",
       "</tr>\n",
       "<tr>\n",
       "  <th>Time:</th>                 <td>19:21:57</td>     <th>  Log-Likelihood:    </th> <td>  33.088</td>\n",
       "</tr>\n",
       "<tr>\n",
       "  <th>No. Observations:</th>      <td>    61</td>      <th>  AIC:               </th> <td>  -62.18</td>\n",
       "</tr>\n",
       "<tr>\n",
       "  <th>Df Residuals:</th>          <td>    59</td>      <th>  BIC:               </th> <td>  -57.96</td>\n",
       "</tr>\n",
       "<tr>\n",
       "  <th>Df Model:</th>              <td>     1</td>      <th>                     </th>     <td> </td>   \n",
       "</tr>\n",
       "<tr>\n",
       "  <th>Covariance Type:</th>      <td>nonrobust</td>    <th>                     </th>     <td> </td>   \n",
       "</tr>\n",
       "</table>\n",
       "<table class=\"simpletable\">\n",
       "<tr>\n",
       "      <td></td>         <th>coef</th>     <th>std err</th>      <th>t</th>      <th>P>|t|</th>  <th>[0.005</th>    <th>0.995]</th>  \n",
       "</tr>\n",
       "<tr>\n",
       "  <th>Intercept</th> <td>    1.6764</td> <td>    0.029</td> <td>   57.217</td> <td> 0.000</td> <td>    1.598</td> <td>    1.754</td>\n",
       "</tr>\n",
       "<tr>\n",
       "  <th>Calc</th>      <td>   -0.0032</td> <td>    0.000</td> <td>   -6.656</td> <td> 0.000</td> <td>   -0.005</td> <td>   -0.002</td>\n",
       "</tr>\n",
       "</table>\n",
       "<table class=\"simpletable\">\n",
       "<tr>\n",
       "  <th>Omnibus:</th>       <td> 0.570</td> <th>  Durbin-Watson:     </th> <td>   1.624</td>\n",
       "</tr>\n",
       "<tr>\n",
       "  <th>Prob(Omnibus):</th> <td> 0.752</td> <th>  Jarque-Bera (JB):  </th> <td>   0.694</td>\n",
       "</tr>\n",
       "<tr>\n",
       "  <th>Skew:</th>          <td> 0.112</td> <th>  Prob(JB):          </th> <td>   0.707</td>\n",
       "</tr>\n",
       "<tr>\n",
       "  <th>Kurtosis:</th>      <td> 2.528</td> <th>  Cond. No.          </th> <td>    96.7</td>\n",
       "</tr>\n",
       "</table><br/><br/>Notes:<br/>[1] Standard Errors assume that the covariance matrix of the errors is correctly specified."
      ],
      "text/plain": [
       "<class 'statsmodels.iolib.summary.Summary'>\n",
       "\"\"\"\n",
       "                            OLS Regression Results                            \n",
       "==============================================================================\n",
       "Dep. Variable:                   Rate   R-squared:                       0.429\n",
       "Model:                            OLS   Adj. R-squared:                  0.419\n",
       "Method:                 Least Squares   F-statistic:                     44.30\n",
       "Date:                Tue, 28 Mar 2023   Prob (F-statistic):           1.03e-08\n",
       "Time:                        19:21:57   Log-Likelihood:                 33.088\n",
       "No. Observations:                  61   AIC:                            -62.18\n",
       "Df Residuals:                      59   BIC:                            -57.96\n",
       "Df Model:                           1                                         \n",
       "Covariance Type:            nonrobust                                         \n",
       "==============================================================================\n",
       "                 coef    std err          t      P>|t|      [0.005      0.995]\n",
       "------------------------------------------------------------------------------\n",
       "Intercept      1.6764      0.029     57.217      0.000       1.598       1.754\n",
       "Calc          -0.0032      0.000     -6.656      0.000      -0.005      -0.002\n",
       "==============================================================================\n",
       "Omnibus:                        0.570   Durbin-Watson:                   1.624\n",
       "Prob(Omnibus):                  0.752   Jarque-Bera (JB):                0.694\n",
       "Skew:                           0.112   Prob(JB):                        0.707\n",
       "Kurtosis:                       2.528   Cond. No.                         96.7\n",
       "==============================================================================\n",
       "\n",
       "Notes:\n",
       "[1] Standard Errors assume that the covariance matrix of the errors is correctly specified.\n",
       "\"\"\""
      ]
     },
     "execution_count": 3,
     "metadata": {},
     "output_type": "execute_result"
    }
   ],
   "source": [
    "#linear model of mortality rate as function of calcium concentration in drinking water\n",
    "y, x = dmatrices('Rate~Calc', data=df)\n",
    "\n",
    "lm = sm.OLS(y, x).fit()\n",
    "lm.summary(alpha=0.01)"
   ]
  },
  {
   "cell_type": "code",
   "execution_count": 4,
   "metadata": {},
   "outputs": [
    {
     "name": "stdout",
     "output_type": "stream",
     "text": [
      "Line of best fit:\n",
      "y = 1.67636 -0.00323x\n"
     ]
    }
   ],
   "source": [
    "b0, b1 = lm.params\n",
    "print(\"Line of best fit:\")\n",
    "print(f\"y = {b0:.5f} {b1:.5f}x\")"
   ]
  },
  {
   "cell_type": "code",
   "execution_count": 5,
   "metadata": {},
   "outputs": [
    {
     "data": {
      "image/png": "[encoded data removed]",
      "text/plain": [
       "<Figure size 1800x400 with 3 Axes>"
      ]
     },
     "metadata": {},
     "output_type": "display_data"
    }
   ],
   "source": [
    "fig, ax = plt.subplots(nrows=1, ncols=3, figsize=(18,4))\n",
    "\n",
    "# plot 1\n",
    "ax[0].scatter(df[\"Calc\"], df[\"Rate\"])\n",
    "ax[0].set_ylim([0,3])\n",
    "ax[0].set_title(\"Mortality vs Calcium\")\n",
    "ax[0].set_xlabel(\"Calcium concentration (ppm)\")\n",
    "ax[0].set_ylabel(\"Mortality rate (%)\")\n",
    "\n",
    "x = np.linspace(0, 140)\n",
    "y = b0 + b1*x\n",
    "ax[0].plot(x, y, color=\"red\")\n",
    "\n",
    "# plot 2\n",
    "residuals = lm.resid\n",
    "ax[1].hist(residuals, density=True)\n",
    "ax[1].set_title(\"Residuals\")\n",
    "ax[1].set_xlabel(\"Residual\")\n",
    "ax[1].set_ylabel(\"Density\")\n",
    "\n",
    "# plot 3\n",
    "ax[2].scatter(df[\"Calc\"], residuals)\n",
    "ax[2].set_ylim([-.5,.5])\n",
    "ax[2].set_title(\"Residuals vs Calcium\")\n",
    "ax[2].set_xlabel(\"Calcium concentration (ppm)\")\n",
    "ax[2].set_ylabel(\"Residuals\");"
   ]
  },
  {
   "cell_type": "markdown",
   "metadata": {},
   "source": [
    "- The data is linear (plot 1).\n",
    "- The residuals follow a normal distribution (plot 2).\n",
    "- The residuals are independent from each other, because there are no streaks of +/- residuals (plot 3).\n",
    "- The residuals have homoscedasticity, because the errors are similar everywhere (plot 3)."
   ]
  },
  {
   "cell_type": "markdown",
   "metadata": {},
   "source": [
    "### Coefficient of Determination"
   ]
  },
  {
   "cell_type": "code",
   "execution_count": 6,
   "metadata": {},
   "outputs": [
    {
     "data": {
      "text/plain": [
       "0.42882671931249716"
      ]
     },
     "execution_count": 6,
     "metadata": {},
     "output_type": "execute_result"
    }
   ],
   "source": [
    "lm.rsquared"
   ]
  },
  {
   "cell_type": "markdown",
   "metadata": {},
   "source": [
    "> About $43\\%$ of the variance in mortality rates can be explained by the calcium in the drinking water, which is a moderately sized value."
   ]
  },
  {
   "cell_type": "markdown",
   "metadata": {},
   "source": [
    "### Hypothesis Testing\n",
    "\n",
    "\n",
    "#### Test to determine whether calcium has an effect on mortality:\n",
    "Significance of $\\alpha=0.01$."
   ]
  },
  {
   "cell_type": "markdown",
   "metadata": {},
   "source": [
    "> $H_0$: calcium concentration has no effect on mortality\n",
    "\n",
    "> $H_a$: calcium concentration does have an effect on mortality\n",
    "\n",
    "> From the summary table, the p-value of Calc is smaller than $0.01$  so the null hypothesis is rejected at this significance level."
   ]
  },
  {
   "cell_type": "markdown",
   "metadata": {},
   "source": [
    "#### Test to determine whether the effect on mortality is large enough for action\n",
    "\n",
    "Does one part-per-million of `Calcium` decrease mortality rate by more than 0.0025 percentage?\n",
    "\n",
    "Significance of $\\alpha = 0.01$."
   ]
  },
  {
   "cell_type": "code",
   "execution_count": 7,
   "metadata": {},
   "outputs": [
    {
     "name": "stdout",
     "output_type": "stream",
     "text": [
      "Slope -/+ standard error: (-0.003710814700858523, -0.0027413685116297855)\n"
     ]
    }
   ],
   "source": [
    "s0,s1 = lm.bse\n",
    "print(\"Slope -/+ standard error:\", (b1-s1, b1+s1))"
   ]
  },
  {
   "cell_type": "markdown",
   "metadata": {},
   "source": [
    "> $H_0$: one part-per-million of calcium does not decrease mortality by more than $0.0025\\%$\n",
    "\n",
    "> $H_a$: one part-per-million of calcium does decrease mortality by more than $0.0025\\%$\n",
    "\n",
    "> Accounting for the standard error, the slopes($-0.0037$ and $-0.0027$) are still stronger than $0.0025$, so the null hypothesis can be rejected."
   ]
  },
  {
   "cell_type": "markdown",
   "metadata": {},
   "source": [
    "### Prediction and Confidence\n",
    "\n",
    "#### Given a town whose drinking water has calcium concentration is say, 100 ppm, the 95% **prediction** band and 95% **confidence** band are:\n",
    "\n",
    "In other words, given our linear model, what is the interval that we think should contain the actual mortality rate for Manchester?\n",
    "In other words, what is the interval that we think should contain the **mean** mortality rate for any town with a Calcium concentration of 100 ppm?"
   ]
  },
  {
   "cell_type": "code",
   "execution_count": 8,
   "metadata": {},
   "outputs": [
    {
     "name": "stdout",
     "output_type": "stream",
     "text": [
      "Prediction Band: (1.0606958581767005, 1.6467970219767853)\n",
      "Confidence Band: (1.2907587114015246, 1.4167341687519612)\n"
     ]
    }
   ],
   "source": [
    "pred100 = lm.get_prediction([1,100]) #100ppm calcium with column for intercept\n",
    "predmat100 = pred100.summary_frame(alpha=0.05)\n",
    "\n",
    "predband = (predmat100[\"obs_ci_lower\"][0], predmat100[\"obs_ci_upper\"][0])\n",
    "ciband = (predmat100[\"mean_ci_lower\"][0], predmat100[\"mean_ci_upper\"][0])\n",
    "\n",
    "print(\"Prediction Band:\", predband)\n",
    "print(\"Confidence Band:\", ciband)"
   ]
  },
  {
   "cell_type": "markdown",
   "metadata": {},
   "source": [
    "> Thus, given our linear model, the actual mortality rate of a town with 100ppm, is likely to be between $1.061$ and $1.647$, and **mean** mortality rate of any town with 100ppm is likely to be between $1.291$ and $1.416$."
   ]
  }
 ],
 "metadata": {
  "kernelspec": {
   "display_name": "Python 3 (ipykernel)",
   "language": "python",
   "name": "python3"
  },
  "language_info": {
   "codemirror_mode": {
    "name": "ipython",
    "version": 3
   },
   "file_extension": ".py",
   "mimetype": "text/x-python",
   "name": "python",
   "nbconvert_exporter": "python",
   "pygments_lexer": "ipython3",
   "version": "3.10.8"
  }
 },
 "nbformat": 4,
 "nbformat_minor": 4
}
